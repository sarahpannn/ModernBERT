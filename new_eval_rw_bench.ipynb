{
 "cells": [
  {
   "cell_type": "code",
   "execution_count": 1,
   "metadata": {},
   "outputs": [
    {
     "name": "stderr",
     "output_type": "stream",
     "text": [
      "/home/azureuser/miniconda3/lib/python3.10/site-packages/tqdm/auto.py:21: TqdmWarning: IProgress not found. Please update jupyter and ipywidgets. See https://ipywidgets.readthedocs.io/en/stable/user_install.html\n",
      "  from .autonotebook import tqdm as notebook_tqdm\n"
     ]
    }
   ],
   "source": [
    "import transformers\n",
    "from transformers import AutoTokenizer, AutoModelForMaskedLM\n",
    "import datasets\n",
    "from datasets import load_dataset\n",
    "\n",
    "import sys\n",
    "import src.evals.data as data_module\n",
    "\n",
    "import torch\n",
    "\n",
    "import random"
   ]
  },
  {
   "cell_type": "code",
   "execution_count": 2,
   "metadata": {},
   "outputs": [],
   "source": [
    "tokenizer = \"answerdotai/ModernBERT-large\""
   ]
  },
  {
   "cell_type": "code",
   "execution_count": 3,
   "metadata": {},
   "outputs": [],
   "source": [
    "chat = data_module.create_preference_to_flan_style_dataset(\n",
    "    task = \"sarahpann/rwb_chat\",\n",
    "    split = \"train\",\n",
    "    tokenizer_name = tokenizer,\n",
    "    max_seq_length = 3600,\n",
    "    prefix = \"Which response is the most helpful, relevant, and correct? \",\n",
    "\n",
    "    dataset_name=\"sarahpann/rwb_chat\",\n",
    "    dataset_subset=\"\",\n",
    "    task_column_names={\"sarahpann/rwb_chat\": ('chosen', 'rejected', 'og_dataset')}\n",
    ")\n",
    "\n",
    "chat_hard = data_module.create_preference_to_flan_style_dataset(\n",
    "    task = \"sarahpann/rwb_chat_hard\",\n",
    "    split = \"train\",\n",
    "    tokenizer_name = tokenizer,\n",
    "    max_seq_length = 3600,\n",
    "    prefix = \"Which response is the most helpful, relevant, and correct? \",\n",
    "\n",
    "    dataset_name=\"sarahpann/rwb_chat_hard\",\n",
    "    dataset_subset=\"\",\n",
    "    task_column_names={\"sarahpann/rwb_chat_hard\": ('chosen', 'rejected', 'og_dataset')}\n",
    ")\n",
    "\n",
    "reasoning = data_module.create_preference_to_flan_style_dataset(\n",
    "    task=\"sarahpann/rwb_reasoning\",\n",
    "    split='train',\n",
    "    tokenizer_name=tokenizer,\n",
    "    max_seq_length=3600,\n",
    "    prefix=\"Determine which response is the best choice based on mathematical or programming accuracy. \",\n",
    "\n",
    "    dataset_name=\"sarahpann/rwb_reasoning\",\n",
    "    dataset_subset=\"\",\n",
    "    task_column_names={\"sarahpann/rwb_reasoning\": ('chosen', 'rejected', 'og_dataset')}\n",
    ")\n",
    "\n",
    "safety = data_module.create_preference_to_flan_style_dataset(\n",
    "    task=\"sarahpann/rwb_safety\",\n",
    "    split='train',\n",
    "    tokenizer_name=tokenizer,\n",
    "    max_seq_length=3600,\n",
    "    prefix=\"Which response is the most helpful, relevant, and correct? \",\n",
    "\n",
    "    dataset_name=\"sarahpann/rwb_safety\",\n",
    "    dataset_subset=\"\",\n",
    "    task_column_names={\"sarahpann/rwb_safety\": ('chosen', 'rejected', 'og_dataset')}\n",
    ")"
   ]
  },
  {
   "cell_type": "code",
   "execution_count": null,
   "metadata": {},
   "outputs": [
    {
     "name": "stderr",
     "output_type": "stream",
     "text": [
      "You are attempting to use Flash Attention 2.0 with a model not initialized on GPU. Make sure to move the model to GPU after initializing it on CPU with `model.to('cuda')`.\n",
      "Loading adapter weights from sarahpann/reasoning_model_large led to missing keys in the model: model.layers.0.attn.Wqkv.lora_A.default.weight, model.layers.0.attn.Wqkv.lora_B.default.weight, model.layers.0.attn.Wqkv.lora_magnitude_vector.default.weight, model.layers.0.attn.Wo.lora_A.default.weight, model.layers.0.attn.Wo.lora_B.default.weight, model.layers.0.attn.Wo.lora_magnitude_vector.default.weight, model.layers.0.mlp.Wi.lora_A.default.weight, model.layers.0.mlp.Wi.lora_B.default.weight, model.layers.0.mlp.Wi.lora_magnitude_vector.default.weight, model.layers.0.mlp.Wo.lora_A.default.weight, model.layers.0.mlp.Wo.lora_B.default.weight, model.layers.0.mlp.Wo.lora_magnitude_vector.default.weight, model.layers.1.attn.Wqkv.lora_A.default.weight, model.layers.1.attn.Wqkv.lora_B.default.weight, model.layers.1.attn.Wqkv.lora_magnitude_vector.default.weight, model.layers.1.attn.Wo.lora_A.default.weight, model.layers.1.attn.Wo.lora_B.default.weight, model.layers.1.attn.Wo.lora_magnitude_vector.default.weight, model.layers.1.mlp.Wi.lora_A.default.weight, model.layers.1.mlp.Wi.lora_B.default.weight, model.layers.1.mlp.Wi.lora_magnitude_vector.default.weight, model.layers.1.mlp.Wo.lora_A.default.weight, model.layers.1.mlp.Wo.lora_B.default.weight, model.layers.1.mlp.Wo.lora_magnitude_vector.default.weight, model.layers.2.attn.Wqkv.lora_A.default.weight, model.layers.2.attn.Wqkv.lora_B.default.weight, model.layers.2.attn.Wqkv.lora_magnitude_vector.default.weight, model.layers.2.attn.Wo.lora_A.default.weight, model.layers.2.attn.Wo.lora_B.default.weight, model.layers.2.attn.Wo.lora_magnitude_vector.default.weight, model.layers.2.mlp.Wi.lora_A.default.weight, model.layers.2.mlp.Wi.lora_B.default.weight, model.layers.2.mlp.Wi.lora_magnitude_vector.default.weight, model.layers.2.mlp.Wo.lora_A.default.weight, model.layers.2.mlp.Wo.lora_B.default.weight, model.layers.2.mlp.Wo.lora_magnitude_vector.default.weight, model.layers.3.attn.Wqkv.lora_A.default.weight, model.layers.3.attn.Wqkv.lora_B.default.weight, model.layers.3.attn.Wqkv.lora_magnitude_vector.default.weight, model.layers.3.attn.Wo.lora_A.default.weight, model.layers.3.attn.Wo.lora_B.default.weight, model.layers.3.attn.Wo.lora_magnitude_vector.default.weight, model.layers.3.mlp.Wi.lora_A.default.weight, model.layers.3.mlp.Wi.lora_B.default.weight, model.layers.3.mlp.Wi.lora_magnitude_vector.default.weight, model.layers.3.mlp.Wo.lora_A.default.weight, model.layers.3.mlp.Wo.lora_B.default.weight, model.layers.3.mlp.Wo.lora_magnitude_vector.default.weight, model.layers.4.attn.Wqkv.lora_A.default.weight, model.layers.4.attn.Wqkv.lora_B.default.weight, model.layers.4.attn.Wqkv.lora_magnitude_vector.default.weight, model.layers.4.attn.Wo.lora_A.default.weight, model.layers.4.attn.Wo.lora_B.default.weight, model.layers.4.attn.Wo.lora_magnitude_vector.default.weight, model.layers.4.mlp.Wi.lora_A.default.weight, model.layers.4.mlp.Wi.lora_B.default.weight, model.layers.4.mlp.Wi.lora_magnitude_vector.default.weight, model.layers.4.mlp.Wo.lora_A.default.weight, model.layers.4.mlp.Wo.lora_B.default.weight, model.layers.4.mlp.Wo.lora_magnitude_vector.default.weight, model.layers.5.attn.Wqkv.lora_A.default.weight, model.layers.5.attn.Wqkv.lora_B.default.weight, model.layers.5.attn.Wqkv.lora_magnitude_vector.default.weight, model.layers.5.attn.Wo.lora_A.default.weight, model.layers.5.attn.Wo.lora_B.default.weight, model.layers.5.attn.Wo.lora_magnitude_vector.default.weight, model.layers.5.mlp.Wi.lora_A.default.weight, model.layers.5.mlp.Wi.lora_B.default.weight, model.layers.5.mlp.Wi.lora_magnitude_vector.default.weight, model.layers.5.mlp.Wo.lora_A.default.weight, model.layers.5.mlp.Wo.lora_B.default.weight, model.layers.5.mlp.Wo.lora_magnitude_vector.default.weight, model.layers.6.attn.Wqkv.lora_A.default.weight, model.layers.6.attn.Wqkv.lora_B.default.weight, model.layers.6.attn.Wqkv.lora_magnitude_vector.default.weight, model.layers.6.attn.Wo.lora_A.default.weight, model.layers.6.attn.Wo.lora_B.default.weight, model.layers.6.attn.Wo.lora_magnitude_vector.default.weight, model.layers.6.mlp.Wi.lora_A.default.weight, model.layers.6.mlp.Wi.lora_B.default.weight, model.layers.6.mlp.Wi.lora_magnitude_vector.default.weight, model.layers.6.mlp.Wo.lora_A.default.weight, model.layers.6.mlp.Wo.lora_B.default.weight, model.layers.6.mlp.Wo.lora_magnitude_vector.default.weight, model.layers.7.attn.Wqkv.lora_A.default.weight, model.layers.7.attn.Wqkv.lora_B.default.weight, model.layers.7.attn.Wqkv.lora_magnitude_vector.default.weight, model.layers.7.attn.Wo.lora_A.default.weight, model.layers.7.attn.Wo.lora_B.default.weight, model.layers.7.attn.Wo.lora_magnitude_vector.default.weight, model.layers.7.mlp.Wi.lora_A.default.weight, model.layers.7.mlp.Wi.lora_B.default.weight, model.layers.7.mlp.Wi.lora_magnitude_vector.default.weight, model.layers.7.mlp.Wo.lora_A.default.weight, model.layers.7.mlp.Wo.lora_B.default.weight, model.layers.7.mlp.Wo.lora_magnitude_vector.default.weight, model.layers.8.attn.Wqkv.lora_A.default.weight, model.layers.8.attn.Wqkv.lora_B.default.weight, model.layers.8.attn.Wqkv.lora_magnitude_vector.default.weight, model.layers.8.attn.Wo.lora_A.default.weight, model.layers.8.attn.Wo.lora_B.default.weight, model.layers.8.attn.Wo.lora_magnitude_vector.default.weight, model.layers.8.mlp.Wi.lora_A.default.weight, model.layers.8.mlp.Wi.lora_B.default.weight, model.layers.8.mlp.Wi.lora_magnitude_vector.default.weight, model.layers.8.mlp.Wo.lora_A.default.weight, model.layers.8.mlp.Wo.lora_B.default.weight, model.layers.8.mlp.Wo.lora_magnitude_vector.default.weight, model.layers.9.attn.Wqkv.lora_A.default.weight, model.layers.9.attn.Wqkv.lora_B.default.weight, model.layers.9.attn.Wqkv.lora_magnitude_vector.default.weight, model.layers.9.attn.Wo.lora_A.default.weight, model.layers.9.attn.Wo.lora_B.default.weight, model.layers.9.attn.Wo.lora_magnitude_vector.default.weight, model.layers.9.mlp.Wi.lora_A.default.weight, model.layers.9.mlp.Wi.lora_B.default.weight, model.layers.9.mlp.Wi.lora_magnitude_vector.default.weight, model.layers.9.mlp.Wo.lora_A.default.weight, model.layers.9.mlp.Wo.lora_B.default.weight, model.layers.9.mlp.Wo.lora_magnitude_vector.default.weight, model.layers.10.attn.Wqkv.lora_A.default.weight, model.layers.10.attn.Wqkv.lora_B.default.weight, model.layers.10.attn.Wqkv.lora_magnitude_vector.default.weight, model.layers.10.attn.Wo.lora_A.default.weight, model.layers.10.attn.Wo.lora_B.default.weight, model.layers.10.attn.Wo.lora_magnitude_vector.default.weight, model.layers.10.mlp.Wi.lora_A.default.weight, model.layers.10.mlp.Wi.lora_B.default.weight, model.layers.10.mlp.Wi.lora_magnitude_vector.default.weight, model.layers.10.mlp.Wo.lora_A.default.weight, model.layers.10.mlp.Wo.lora_B.default.weight, model.layers.10.mlp.Wo.lora_magnitude_vector.default.weight, model.layers.11.attn.Wqkv.lora_A.default.weight, model.layers.11.attn.Wqkv.lora_B.default.weight, model.layers.11.attn.Wqkv.lora_magnitude_vector.default.weight, model.layers.11.attn.Wo.lora_A.default.weight, model.layers.11.attn.Wo.lora_B.default.weight, model.layers.11.attn.Wo.lora_magnitude_vector.default.weight, model.layers.11.mlp.Wi.lora_A.default.weight, model.layers.11.mlp.Wi.lora_B.default.weight, model.layers.11.mlp.Wi.lora_magnitude_vector.default.weight, model.layers.11.mlp.Wo.lora_A.default.weight, model.layers.11.mlp.Wo.lora_B.default.weight, model.layers.11.mlp.Wo.lora_magnitude_vector.default.weight, model.layers.12.attn.Wqkv.lora_A.default.weight, model.layers.12.attn.Wqkv.lora_B.default.weight, model.layers.12.attn.Wqkv.lora_magnitude_vector.default.weight, model.layers.12.attn.Wo.lora_A.default.weight, model.layers.12.attn.Wo.lora_B.default.weight, model.layers.12.attn.Wo.lora_magnitude_vector.default.weight, model.layers.12.mlp.Wi.lora_A.default.weight, model.layers.12.mlp.Wi.lora_B.default.weight, model.layers.12.mlp.Wi.lora_magnitude_vector.default.weight, model.layers.12.mlp.Wo.lora_A.default.weight, model.layers.12.mlp.Wo.lora_B.default.weight, model.layers.12.mlp.Wo.lora_magnitude_vector.default.weight, model.layers.13.attn.Wqkv.lora_A.default.weight, model.layers.13.attn.Wqkv.lora_B.default.weight, model.layers.13.attn.Wqkv.lora_magnitude_vector.default.weight, model.layers.13.attn.Wo.lora_A.default.weight, model.layers.13.attn.Wo.lora_B.default.weight, model.layers.13.attn.Wo.lora_magnitude_vector.default.weight, model.layers.13.mlp.Wi.lora_A.default.weight, model.layers.13.mlp.Wi.lora_B.default.weight, model.layers.13.mlp.Wi.lora_magnitude_vector.default.weight, model.layers.13.mlp.Wo.lora_A.default.weight, model.layers.13.mlp.Wo.lora_B.default.weight, model.layers.13.mlp.Wo.lora_magnitude_vector.default.weight, model.layers.14.attn.Wqkv.lora_A.default.weight, model.layers.14.attn.Wqkv.lora_B.default.weight, model.layers.14.attn.Wqkv.lora_magnitude_vector.default.weight, model.layers.14.attn.Wo.lora_A.default.weight, model.layers.14.attn.Wo.lora_B.default.weight, model.layers.14.attn.Wo.lora_magnitude_vector.default.weight, model.layers.14.mlp.Wi.lora_A.default.weight, model.layers.14.mlp.Wi.lora_B.default.weight, model.layers.14.mlp.Wi.lora_magnitude_vector.default.weight, model.layers.14.mlp.Wo.lora_A.default.weight, model.layers.14.mlp.Wo.lora_B.default.weight, model.layers.14.mlp.Wo.lora_magnitude_vector.default.weight, model.layers.15.attn.Wqkv.lora_A.default.weight, model.layers.15.attn.Wqkv.lora_B.default.weight, model.layers.15.attn.Wqkv.lora_magnitude_vector.default.weight, model.layers.15.attn.Wo.lora_A.default.weight, model.layers.15.attn.Wo.lora_B.default.weight, model.layers.15.attn.Wo.lora_magnitude_vector.default.weight, model.layers.15.mlp.Wi.lora_A.default.weight, model.layers.15.mlp.Wi.lora_B.default.weight, model.layers.15.mlp.Wi.lora_magnitude_vector.default.weight, model.layers.15.mlp.Wo.lora_A.default.weight, model.layers.15.mlp.Wo.lora_B.default.weight, model.layers.15.mlp.Wo.lora_magnitude_vector.default.weight, model.layers.16.attn.Wqkv.lora_A.default.weight, model.layers.16.attn.Wqkv.lora_B.default.weight, model.layers.16.attn.Wqkv.lora_magnitude_vector.default.weight, model.layers.16.attn.Wo.lora_A.default.weight, model.layers.16.attn.Wo.lora_B.default.weight, model.layers.16.attn.Wo.lora_magnitude_vector.default.weight, model.layers.16.mlp.Wi.lora_A.default.weight, model.layers.16.mlp.Wi.lora_B.default.weight, model.layers.16.mlp.Wi.lora_magnitude_vector.default.weight, model.layers.16.mlp.Wo.lora_A.default.weight, model.layers.16.mlp.Wo.lora_B.default.weight, model.layers.16.mlp.Wo.lora_magnitude_vector.default.weight, model.layers.17.attn.Wqkv.lora_A.default.weight, model.layers.17.attn.Wqkv.lora_B.default.weight, model.layers.17.attn.Wqkv.lora_magnitude_vector.default.weight, model.layers.17.attn.Wo.lora_A.default.weight, model.layers.17.attn.Wo.lora_B.default.weight, model.layers.17.attn.Wo.lora_magnitude_vector.default.weight, model.layers.17.mlp.Wi.lora_A.default.weight, model.layers.17.mlp.Wi.lora_B.default.weight, model.layers.17.mlp.Wi.lora_magnitude_vector.default.weight, model.layers.17.mlp.Wo.lora_A.default.weight, model.layers.17.mlp.Wo.lora_B.default.weight, model.layers.17.mlp.Wo.lora_magnitude_vector.default.weight, model.layers.18.attn.Wqkv.lora_A.default.weight, model.layers.18.attn.Wqkv.lora_B.default.weight, model.layers.18.attn.Wqkv.lora_magnitude_vector.default.weight, model.layers.18.attn.Wo.lora_A.default.weight, model.layers.18.attn.Wo.lora_B.default.weight, model.layers.18.attn.Wo.lora_magnitude_vector.default.weight, model.layers.18.mlp.Wi.lora_A.default.weight, model.layers.18.mlp.Wi.lora_B.default.weight, model.layers.18.mlp.Wi.lora_magnitude_vector.default.weight, model.layers.18.mlp.Wo.lora_A.default.weight, model.layers.18.mlp.Wo.lora_B.default.weight, model.layers.18.mlp.Wo.lora_magnitude_vector.default.weight, model.layers.19.attn.Wqkv.lora_A.default.weight, model.layers.19.attn.Wqkv.lora_B.default.weight, model.layers.19.attn.Wqkv.lora_magnitude_vector.default.weight, model.layers.19.attn.Wo.lora_A.default.weight, model.layers.19.attn.Wo.lora_B.default.weight, model.layers.19.attn.Wo.lora_magnitude_vector.default.weight, model.layers.19.mlp.Wi.lora_A.default.weight, model.layers.19.mlp.Wi.lora_B.default.weight, model.layers.19.mlp.Wi.lora_magnitude_vector.default.weight, model.layers.19.mlp.Wo.lora_A.default.weight, model.layers.19.mlp.Wo.lora_B.default.weight, model.layers.19.mlp.Wo.lora_magnitude_vector.default.weight, model.layers.20.attn.Wqkv.lora_A.default.weight, model.layers.20.attn.Wqkv.lora_B.default.weight, model.layers.20.attn.Wqkv.lora_magnitude_vector.default.weight, model.layers.20.attn.Wo.lora_A.default.weight, model.layers.20.attn.Wo.lora_B.default.weight, model.layers.20.attn.Wo.lora_magnitude_vector.default.weight, model.layers.20.mlp.Wi.lora_A.default.weight, model.layers.20.mlp.Wi.lora_B.default.weight, model.layers.20.mlp.Wi.lora_magnitude_vector.default.weight, model.layers.20.mlp.Wo.lora_A.default.weight, model.layers.20.mlp.Wo.lora_B.default.weight, model.layers.20.mlp.Wo.lora_magnitude_vector.default.weight, model.layers.21.attn.Wqkv.lora_A.default.weight, model.layers.21.attn.Wqkv.lora_B.default.weight, model.layers.21.attn.Wqkv.lora_magnitude_vector.default.weight, model.layers.21.attn.Wo.lora_A.default.weight, model.layers.21.attn.Wo.lora_B.default.weight, model.layers.21.attn.Wo.lora_magnitude_vector.default.weight, model.layers.21.mlp.Wi.lora_A.default.weight, model.layers.21.mlp.Wi.lora_B.default.weight, model.layers.21.mlp.Wi.lora_magnitude_vector.default.weight, model.layers.21.mlp.Wo.lora_A.default.weight, model.layers.21.mlp.Wo.lora_B.default.weight, model.layers.21.mlp.Wo.lora_magnitude_vector.default.weight, model.layers.22.attn.Wqkv.lora_A.default.weight, model.layers.22.attn.Wqkv.lora_B.default.weight, model.layers.22.attn.Wqkv.lora_magnitude_vector.default.weight, model.layers.22.attn.Wo.lora_A.default.weight, model.layers.22.attn.Wo.lora_B.default.weight, model.layers.22.attn.Wo.lora_magnitude_vector.default.weight, model.layers.22.mlp.Wi.lora_A.default.weight, model.layers.22.mlp.Wi.lora_B.default.weight, model.layers.22.mlp.Wi.lora_magnitude_vector.default.weight, model.layers.22.mlp.Wo.lora_A.default.weight, model.layers.22.mlp.Wo.lora_B.default.weight, model.layers.22.mlp.Wo.lora_magnitude_vector.default.weight, model.layers.23.attn.Wqkv.lora_A.default.weight, model.layers.23.attn.Wqkv.lora_B.default.weight, model.layers.23.attn.Wqkv.lora_magnitude_vector.default.weight, model.layers.23.attn.Wo.lora_A.default.weight, model.layers.23.attn.Wo.lora_B.default.weight, model.layers.23.attn.Wo.lora_magnitude_vector.default.weight, model.layers.23.mlp.Wi.lora_A.default.weight, model.layers.23.mlp.Wi.lora_B.default.weight, model.layers.23.mlp.Wi.lora_magnitude_vector.default.weight, model.layers.23.mlp.Wo.lora_A.default.weight, model.layers.23.mlp.Wo.lora_B.default.weight, model.layers.23.mlp.Wo.lora_magnitude_vector.default.weight, model.layers.24.attn.Wqkv.lora_A.default.weight, model.layers.24.attn.Wqkv.lora_B.default.weight, model.layers.24.attn.Wqkv.lora_magnitude_vector.default.weight, model.layers.24.attn.Wo.lora_A.default.weight, model.layers.24.attn.Wo.lora_B.default.weight, model.layers.24.attn.Wo.lora_magnitude_vector.default.weight, model.layers.24.mlp.Wi.lora_A.default.weight, model.layers.24.mlp.Wi.lora_B.default.weight, model.layers.24.mlp.Wi.lora_magnitude_vector.default.weight, model.layers.24.mlp.Wo.lora_A.default.weight, model.layers.24.mlp.Wo.lora_B.default.weight, model.layers.24.mlp.Wo.lora_magnitude_vector.default.weight, model.layers.25.attn.Wqkv.lora_A.default.weight, model.layers.25.attn.Wqkv.lora_B.default.weight, model.layers.25.attn.Wqkv.lora_magnitude_vector.default.weight, model.layers.25.attn.Wo.lora_A.default.weight, model.layers.25.attn.Wo.lora_B.default.weight, model.layers.25.attn.Wo.lora_magnitude_vector.default.weight, model.layers.25.mlp.Wi.lora_A.default.weight, model.layers.25.mlp.Wi.lora_B.default.weight, model.layers.25.mlp.Wi.lora_magnitude_vector.default.weight, model.layers.25.mlp.Wo.lora_A.default.weight, model.layers.25.mlp.Wo.lora_B.default.weight, model.layers.25.mlp.Wo.lora_magnitude_vector.default.weight, model.layers.26.attn.Wqkv.lora_A.default.weight, model.layers.26.attn.Wqkv.lora_B.default.weight, model.layers.26.attn.Wqkv.lora_magnitude_vector.default.weight, model.layers.26.attn.Wo.lora_A.default.weight, model.layers.26.attn.Wo.lora_B.default.weight, model.layers.26.attn.Wo.lora_magnitude_vector.default.weight, model.layers.26.mlp.Wi.lora_A.default.weight, model.layers.26.mlp.Wi.lora_B.default.weight, model.layers.26.mlp.Wi.lora_magnitude_vector.default.weight, model.layers.26.mlp.Wo.lora_A.default.weight, model.layers.26.mlp.Wo.lora_B.default.weight, model.layers.26.mlp.Wo.lora_magnitude_vector.default.weight, model.layers.27.attn.Wqkv.lora_A.default.weight, model.layers.27.attn.Wqkv.lora_B.default.weight, model.layers.27.attn.Wqkv.lora_magnitude_vector.default.weight, model.layers.27.attn.Wo.lora_A.default.weight, model.layers.27.attn.Wo.lora_B.default.weight, model.layers.27.attn.Wo.lora_magnitude_vector.default.weight, model.layers.27.mlp.Wi.lora_A.default.weight, model.layers.27.mlp.Wi.lora_B.default.weight, model.layers.27.mlp.Wi.lora_magnitude_vector.default.weight, model.layers.27.mlp.Wo.lora_A.default.weight, model.layers.27.mlp.Wo.lora_B.default.weight, model.layers.27.mlp.Wo.lora_magnitude_vector.default.weight, head.dense.lora_A.default.weight, head.dense.lora_B.default.weight, head.dense.lora_magnitude_vector.default.weight, decoder.lora_A.default.weight, decoder.lora_B.default.weight, decoder.lora_magnitude_vector.default.weight\n"
     ]
    }
   ],
   "source": [
    "model = AutoModelForMaskedLM.from_pretrained(\"sarahpann/reasoning_model_large\")"
   ]
  },
  {
   "cell_type": "code",
   "execution_count": 6,
   "metadata": {},
   "outputs": [],
   "source": [
    "chat.set_format(type='torch', columns=['input_ids', 'attention_mask'])\n",
    "chat_hard.set_format(type='torch', columns=['input_ids', 'attention_mask'])\n",
    "reasoning.set_format(type='torch', columns=['input_ids', 'attention_mask'])\n",
    "safety.set_format(type='torch', columns=['input_ids', 'attention_mask'])"
   ]
  },
  {
   "cell_type": "code",
   "execution_count": 8,
   "metadata": {},
   "outputs": [],
   "source": [
    "chat_loader = torch.utils.data.DataLoader(chat, batch_size=1, shuffle=False)\n",
    "chat_hard_loader = torch.utils.data.DataLoader(chat_hard, batch_size=1, shuffle=False)\n",
    "reasoning_loader = torch.utils.data.DataLoader(reasoning, batch_size=1, shuffle=False)\n",
    "safety_loader = torch.utils.data.DataLoader(safety, batch_size=1, shuffle=False)"
   ]
  },
  {
   "cell_type": "code",
   "execution_count": 9,
   "metadata": {},
   "outputs": [],
   "source": [
    "real_tokenizer = AutoTokenizer.from_pretrained(tokenizer)"
   ]
  },
  {
   "cell_type": "code",
   "execution_count": 10,
   "metadata": {},
   "outputs": [],
   "source": [
    "import tqdm\n",
    "from tqdm import tqdm"
   ]
  },
  {
   "cell_type": "code",
   "execution_count": null,
   "metadata": {},
   "outputs": [],
   "source": [
    "def eval_dataset(model, subject_dataloader):\n",
    "    total = 0\n",
    "    correct = 0\n",
    "\n",
    "    model.to(\"cuda\")\n",
    "    model.eval()\n",
    "\n",
    "    with torch.no_grad():\n",
    "        for i, example in tqdm(enumerate(subject_dataloader)):\n",
    "            input_ids = example['input_ids'].clone()\n",
    "            input_ids[:, -2] = real_tokenizer.mask_token_id\n",
    "            input_ids = input_ids.to(\"cuda\")\n",
    "            attention_mask = example['attention_mask'].to(\"cuda\")\n",
    "\n",
    "\n",
    "            output = model(input_ids=input_ids, attention_mask=attention_mask)\n",
    "            logits = output.logits\n",
    "            pred = torch.argmax(logits, dim=-1)\n",
    "\n",
    "            # print(output)\n",
    "            if not i % 100:\n",
    "                print(real_tokenizer.decode(pred[0, :-10:]))\n",
    "\n",
    "            # print(real_tokenizer.decode(input_ids[0]))\n",
    "            if pred[0, -2] == example['input_ids'][0, -2]:\n",
    "                correct += 1\n",
    "            total += 1\n",
    "\n",
    "            \n",
    "    print(f\"Accuracy: {correct / total}\")\n",
    "    return correct / total"
   ]
  },
  {
   "cell_type": "code",
   "execution_count": null,
   "metadata": {},
   "outputs": [
    {
     "name": "stderr",
     "output_type": "stream",
     "text": [
      "0it [00:00, ?it/s]/home/azureuser/miniconda3/lib/python3.10/site-packages/torch/_inductor/compile_fx.py:124: UserWarning: TensorFloat32 tensor cores for float32 matrix multiplication available but not enabled. Consider setting `torch.set_float32_matmul_precision('high')` for better performance.\n",
      "  warnings.warn(\n"
     ]
    }
   ],
   "source": [
    "# chat_acc = eval_dataset(model, chat_loader)\n",
    "# chat_hard_acc = eval_dataset(model, chat_hard_loader)\n",
    "reasoning_acc = eval_dataset(model, reasoning_loader)\n",
    "# safety_acc = eval_dataset(model, safety_loader)"
   ]
  },
  {
   "cell_type": "code",
   "execution_count": 67,
   "metadata": {},
   "outputs": [
    {
     "name": "stdout",
     "output_type": "stream",
     "text": [
      "{'chat': 0.7946141479099679, 'chat_hard': 0.2521551724137931, 'reasoning': 0.76659678546471, 'safety': 0.7918918918918919}\n"
     ]
    }
   ],
   "source": [
    "final_results = {\n",
    "    \"chat\": chat_acc,\n",
    "    \"chat_hard\": chat_hard_acc,\n",
    "    \"reasoning\": reasoning_acc,\n",
    "    \"safety\": safety_acc\n",
    "}\n",
    "\n",
    "print(final_results)"
   ]
  },
  {
   "cell_type": "code",
   "execution_count": null,
   "metadata": {},
   "outputs": [
    {
     "data": {
      "text/plain": [
       "0.7876919073622352"
      ]
     },
     "execution_count": 13,
     "metadata": {},
     "output_type": "execute_result"
    }
   ],
   "source": [
    "# for chat\n",
    "0.8657556270096463 * (1 - 0.157) + 0.36853448275862066 * (0.157)"
   ]
  },
  {
   "cell_type": "code",
   "execution_count": null,
   "metadata": {},
   "outputs": [],
   "source": [
    "# for reasoning\n",
    "0.3305380852550664"
   ]
  }
 ],
 "metadata": {
  "kernelspec": {
   "display_name": "base",
   "language": "python",
   "name": "python3"
  },
  "language_info": {
   "codemirror_mode": {
    "name": "ipython",
    "version": 3
   },
   "file_extension": ".py",
   "mimetype": "text/x-python",
   "name": "python",
   "nbconvert_exporter": "python",
   "pygments_lexer": "ipython3",
   "version": "3.10.13"
  }
 },
 "nbformat": 4,
 "nbformat_minor": 2
}
