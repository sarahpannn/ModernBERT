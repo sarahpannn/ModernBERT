{
 "cells": [
  {
   "cell_type": "code",
   "execution_count": 1,
   "metadata": {},
   "outputs": [
    {
     "name": "stderr",
     "output_type": "stream",
     "text": [
      "/home/azureuser/miniconda3/lib/python3.10/site-packages/tqdm/auto.py:21: TqdmWarning: IProgress not found. Please update jupyter and ipywidgets. See https://ipywidgets.readthedocs.io/en/stable/user_install.html\n",
      "  from .autonotebook import tqdm as notebook_tqdm\n"
     ]
    }
   ],
   "source": [
    "import transformers\n",
    "from transformers import AutoTokenizer, AutoModelForMaskedLM\n",
    "import datasets\n",
    "from datasets import load_dataset\n",
    "\n",
    "import sys\n",
    "import src.evals.data as data_module\n",
    "\n",
    "import torch\n",
    "\n",
    "import random"
   ]
  },
  {
   "cell_type": "code",
   "execution_count": 2,
   "metadata": {},
   "outputs": [],
   "source": [
    "tokenizer = \"answerdotai/ModernBERT-large\""
   ]
  },
  {
   "cell_type": "code",
   "execution_count": 3,
   "metadata": {},
   "outputs": [
    {
     "name": "stderr",
     "output_type": "stream",
     "text": [
      "Downloading readme: 100%|██████████| 352/352 [00:00<00:00, 2.91kB/s]\n",
      "Downloading data: 100%|██████████| 3.90M/3.90M [00:00<00:00, 10.5MB/s]\n",
      "Generating train split: 100%|██████████| 2488/2488 [00:00<00:00, 130358.12 examples/s]\n",
      "Map: 100%|██████████| 2488/2488 [00:00<00:00, 2743.84 examples/s]\n",
      "Downloading readme: 100%|██████████| 348/348 [00:00<00:00, 3.55kB/s]\n",
      "Downloading data: 100%|██████████| 403k/403k [00:00<00:00, 2.52MB/s]\n",
      "Generating train split: 100%|██████████| 464/464 [00:00<00:00, 169128.10 examples/s]\n",
      "Map: 100%|██████████| 464/464 [00:00<00:00, 5049.72 examples/s]\n",
      "Downloading readme: 100%|██████████| 352/352 [00:00<00:00, 3.29kB/s]\n",
      "Downloading data: 100%|██████████| 1.06M/1.06M [00:00<00:00, 8.46MB/s]\n",
      "Generating train split: 100%|██████████| 1431/1431 [00:00<00:00, 223940.34 examples/s]\n",
      "Map: 100%|██████████| 1431/1431 [00:00<00:00, 3427.20 examples/s]\n",
      "Downloading readme: 100%|██████████| 350/350 [00:00<00:00, 3.44kB/s]\n",
      "Downloading data: 100%|██████████| 665k/665k [00:00<00:00, 4.28MB/s]\n",
      "Generating train split: 100%|██████████| 740/740 [00:00<00:00, 169893.53 examples/s]\n",
      "Map: 100%|██████████| 740/740 [00:00<00:00, 4543.42 examples/s]\n"
     ]
    }
   ],
   "source": [
    "chat = data_module.create_preference_to_flan_style_dataset(\n",
    "    task = \"sarahpann/rwb_chat\",\n",
    "    split = \"train\",\n",
    "    tokenizer_name = tokenizer,\n",
    "    max_seq_length = 3600,\n",
    "    prefix = \"Which response is the most helpful, relevant, and correct? \",\n",
    "\n",
    "    dataset_name=\"sarahpann/rwb_chat\",\n",
    "    dataset_subset=\"\",\n",
    "    task_column_names={\"sarahpann/rwb_chat\": ('chosen', 'rejected', 'og_dataset')}\n",
    ")\n",
    "\n",
    "chat_hard = data_module.create_preference_to_flan_style_dataset(\n",
    "    task = \"sarahpann/rwb_chat_hard\",\n",
    "    split = \"train\",\n",
    "    tokenizer_name = tokenizer,\n",
    "    max_seq_length = 3600,\n",
    "    prefix = \"Which response is the most helpful, relevant, and correct? \",\n",
    "\n",
    "    dataset_name=\"sarahpann/rwb_chat_hard\",\n",
    "    dataset_subset=\"\",\n",
    "    task_column_names={\"sarahpann/rwb_chat_hard\": ('chosen', 'rejected', 'og_dataset')}\n",
    ")\n",
    "\n",
    "reasoning = data_module.create_preference_to_flan_style_dataset(\n",
    "    task=\"sarahpann/rwb_reasoning\",\n",
    "    split='train',\n",
    "    tokenizer_name=tokenizer,\n",
    "    max_seq_length=3600,\n",
    "    prefix=\"Determine which response is the best choice based on mathematical or programming accuracy. \",\n",
    "\n",
    "    dataset_name=\"sarahpann/rwb_reasoning\",\n",
    "    dataset_subset=\"\",\n",
    "    task_column_names={\"sarahpann/rwb_reasoning\": ('chosen', 'rejected', 'og_dataset')}\n",
    ")\n",
    "\n",
    "safety = data_module.create_preference_to_flan_style_dataset(\n",
    "    task=\"sarahpann/rwb_safety\",\n",
    "    split='train',\n",
    "    tokenizer_name=tokenizer,\n",
    "    max_seq_length=3600,\n",
    "    prefix=\"Which response is the most helpful, relevant, and correct? \",\n",
    "\n",
    "    dataset_name=\"sarahpann/rwb_safety\",\n",
    "    dataset_subset=\"\",\n",
    "    task_column_names={\"sarahpann/rwb_safety\": ('chosen', 'rejected', 'og_dataset')}\n",
    ")"
   ]
  },
  {
   "cell_type": "code",
   "execution_count": null,
   "metadata": {},
   "outputs": [],
   "source": [
    "model = AutoModelForMaskedLM.from_pretrained(\"sarahpann/reasoning_model\")"
   ]
  },
  {
   "cell_type": "code",
   "execution_count": 5,
   "metadata": {},
   "outputs": [],
   "source": [
    "chat.set_format(type='torch', columns=['input_ids', 'attention_mask'])\n",
    "chat_hard.set_format(type='torch', columns=['input_ids', 'attention_mask'])\n",
    "reasoning.set_format(type='torch', columns=['input_ids', 'attention_mask'])\n",
    "safety.set_format(type='torch', columns=['input_ids', 'attention_mask'])"
   ]
  },
  {
   "cell_type": "code",
   "execution_count": 6,
   "metadata": {},
   "outputs": [],
   "source": [
    "chat_loader = torch.utils.data.DataLoader(chat, batch_size=1, shuffle=False)\n",
    "chat_hard_loader = torch.utils.data.DataLoader(chat_hard, batch_size=1, shuffle=False)\n",
    "reasoning_loader = torch.utils.data.DataLoader(reasoning, batch_size=1, shuffle=False)\n",
    "safety_loader = torch.utils.data.DataLoader(safety, batch_size=1, shuffle=False)"
   ]
  },
  {
   "cell_type": "code",
   "execution_count": 7,
   "metadata": {},
   "outputs": [],
   "source": [
    "real_tokenizer = AutoTokenizer.from_pretrained(tokenizer)"
   ]
  },
  {
   "cell_type": "code",
   "execution_count": 10,
   "metadata": {},
   "outputs": [],
   "source": [
    "import tqdm\n",
    "from tqdm import tqdm"
   ]
  },
  {
   "cell_type": "code",
   "execution_count": 11,
   "metadata": {},
   "outputs": [],
   "source": [
    "def eval_dataset(model, subject_dataloader):\n",
    "    total = 0\n",
    "    correct = 0\n",
    "\n",
    "    model.to(\"cuda\")\n",
    "    model.eval()\n",
    "\n",
    "    with torch.no_grad():\n",
    "        for example in tqdm(subject_dataloader):\n",
    "            input_ids = example['input_ids'].clone()\n",
    "            input_ids[:, -2] = real_tokenizer.mask_token_id\n",
    "            input_ids = input_ids.to(\"cuda\")\n",
    "            attention_mask = example['attention_mask'].to(\"cuda\")\n",
    "\n",
    "            output = model(input_ids=input_ids, attention_mask=attention_mask)\n",
    "            logits = output.logits\n",
    "            pred = torch.argmax(logits, dim=-1)\n",
    "\n",
    "            if pred[0, -2] == example['input_ids'][0, -2]:\n",
    "                correct += 1\n",
    "            total += 1\n",
    "\n",
    "            \n",
    "    print(f\"Accuracy: {correct / total}\")\n",
    "    return correct / total"
   ]
  },
  {
   "cell_type": "code",
   "execution_count": null,
   "metadata": {},
   "outputs": [
    {
     "name": "stderr",
     "output_type": "stream",
     "text": [
      "100%|██████████| 2488/2488 [01:44<00:00, 23.77it/s]\n"
     ]
    },
    {
     "name": "stdout",
     "output_type": "stream",
     "text": [
      "Accuracy: 0.8657556270096463\n"
     ]
    },
    {
     "name": "stderr",
     "output_type": "stream",
     "text": [
      "100%|██████████| 464/464 [00:13<00:00, 34.72it/s]"
     ]
    },
    {
     "name": "stdout",
     "output_type": "stream",
     "text": [
      "Accuracy: 0.36853448275862066\n"
     ]
    },
    {
     "name": "stderr",
     "output_type": "stream",
     "text": [
      "\n"
     ]
    }
   ],
   "source": [
    "# chat_acc = eval_dataset(model, chat_loader)\n",
    "# chat_hard_acc = eval_dataset(model, chat_hard_loader)\n",
    "reasoning_acc = eval_dataset(model, reasoning_loader)\n",
    "# safety_acc = eval_dataset(model, safety_loader)"
   ]
  },
  {
   "cell_type": "code",
   "execution_count": 67,
   "metadata": {},
   "outputs": [
    {
     "name": "stdout",
     "output_type": "stream",
     "text": [
      "{'chat': 0.7946141479099679, 'chat_hard': 0.2521551724137931, 'reasoning': 0.76659678546471, 'safety': 0.7918918918918919}\n"
     ]
    }
   ],
   "source": [
    "final_results = {\n",
    "    \"chat\": chat_acc,\n",
    "    \"chat_hard\": chat_hard_acc,\n",
    "    \"reasoning\": reasoning_acc,\n",
    "    \"safety\": safety_acc\n",
    "}\n",
    "\n",
    "print(final_results)"
   ]
  },
  {
   "cell_type": "code",
   "execution_count": 13,
   "metadata": {},
   "outputs": [
    {
     "data": {
      "text/plain": [
       "0.7876919073622352"
      ]
     },
     "execution_count": 13,
     "metadata": {},
     "output_type": "execute_result"
    }
   ],
   "source": [
    "0.8657556270096463 * (1 - 0.157) + 0.36853448275862066 * (0.157)"
   ]
  },
  {
   "cell_type": "code",
   "execution_count": null,
   "metadata": {},
   "outputs": [],
   "source": []
  }
 ],
 "metadata": {
  "kernelspec": {
   "display_name": "base",
   "language": "python",
   "name": "python3"
  },
  "language_info": {
   "codemirror_mode": {
    "name": "ipython",
    "version": 3
   },
   "file_extension": ".py",
   "mimetype": "text/x-python",
   "name": "python",
   "nbconvert_exporter": "python",
   "pygments_lexer": "ipython3",
   "version": "3.10.13"
  }
 },
 "nbformat": 4,
 "nbformat_minor": 2
}
