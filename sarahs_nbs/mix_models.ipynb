{
 "cells": [
  {
   "cell_type": "code",
   "execution_count": 2,
   "metadata": {},
   "outputs": [
    {
     "name": "stderr",
     "output_type": "stream",
     "text": [
      "/home/azureuser/miniconda3/lib/python3.10/site-packages/tqdm/auto.py:21: TqdmWarning: IProgress not found. Please update jupyter and ipywidgets. See https://ipywidgets.readthedocs.io/en/stable/user_install.html\n",
      "  from .autonotebook import tqdm as notebook_tqdm\n"
     ]
    }
   ],
   "source": [
    "import transformers\n",
    "from transformers import AutoTokenizer, AutoModelForMaskedLM\n",
    "\n",
    "import torch"
   ]
  },
  {
   "cell_type": "code",
   "execution_count": null,
   "metadata": {},
   "outputs": [
    {
     "name": "stderr",
     "output_type": "stream",
     "text": [
      "You are attempting to use Flash Attention 2.0 with a model not initialized on GPU. Make sure to move the model to GPU after initializing it on CPU with `model.to('cuda')`.\n"
     ]
    }
   ],
   "source": [
    "my_chat_model = AutoModelForMaskedLM.from_pretrained(\"sarahpann/rea_model_small\")\n",
    "hf_model = AutoModelForMaskedLM.from_pretrained(\"answerdotai/ModernBERT-base\")"
   ]
  },
  {
   "cell_type": "code",
   "execution_count": 6,
   "metadata": {},
   "outputs": [
    {
     "data": {
      "text/plain": [
       "odict_keys(['model.embeddings.tok_embeddings.weight', 'model.embeddings.norm.weight', 'model.layers.0.attn.Wqkv.weight', 'model.layers.0.attn.Wo.weight', 'model.layers.0.mlp_norm.weight', 'model.layers.0.mlp.Wi.weight', 'model.layers.0.mlp.Wo.weight', 'model.layers.1.attn_norm.weight', 'model.layers.1.attn.Wqkv.weight', 'model.layers.1.attn.Wo.weight', 'model.layers.1.mlp_norm.weight', 'model.layers.1.mlp.Wi.weight', 'model.layers.1.mlp.Wo.weight', 'model.layers.2.attn_norm.weight', 'model.layers.2.attn.Wqkv.weight', 'model.layers.2.attn.Wo.weight', 'model.layers.2.mlp_norm.weight', 'model.layers.2.mlp.Wi.weight', 'model.layers.2.mlp.Wo.weight', 'model.layers.3.attn_norm.weight', 'model.layers.3.attn.Wqkv.weight', 'model.layers.3.attn.Wo.weight', 'model.layers.3.mlp_norm.weight', 'model.layers.3.mlp.Wi.weight', 'model.layers.3.mlp.Wo.weight', 'model.layers.4.attn_norm.weight', 'model.layers.4.attn.Wqkv.weight', 'model.layers.4.attn.Wo.weight', 'model.layers.4.mlp_norm.weight', 'model.layers.4.mlp.Wi.weight', 'model.layers.4.mlp.Wo.weight', 'model.layers.5.attn_norm.weight', 'model.layers.5.attn.Wqkv.weight', 'model.layers.5.attn.Wo.weight', 'model.layers.5.mlp_norm.weight', 'model.layers.5.mlp.Wi.weight', 'model.layers.5.mlp.Wo.weight', 'model.layers.6.attn_norm.weight', 'model.layers.6.attn.Wqkv.weight', 'model.layers.6.attn.Wo.weight', 'model.layers.6.mlp_norm.weight', 'model.layers.6.mlp.Wi.weight', 'model.layers.6.mlp.Wo.weight', 'model.layers.7.attn_norm.weight', 'model.layers.7.attn.Wqkv.weight', 'model.layers.7.attn.Wo.weight', 'model.layers.7.mlp_norm.weight', 'model.layers.7.mlp.Wi.weight', 'model.layers.7.mlp.Wo.weight', 'model.layers.8.attn_norm.weight', 'model.layers.8.attn.Wqkv.weight', 'model.layers.8.attn.Wo.weight', 'model.layers.8.mlp_norm.weight', 'model.layers.8.mlp.Wi.weight', 'model.layers.8.mlp.Wo.weight', 'model.layers.9.attn_norm.weight', 'model.layers.9.attn.Wqkv.weight', 'model.layers.9.attn.Wo.weight', 'model.layers.9.mlp_norm.weight', 'model.layers.9.mlp.Wi.weight', 'model.layers.9.mlp.Wo.weight', 'model.layers.10.attn_norm.weight', 'model.layers.10.attn.Wqkv.weight', 'model.layers.10.attn.Wo.weight', 'model.layers.10.mlp_norm.weight', 'model.layers.10.mlp.Wi.weight', 'model.layers.10.mlp.Wo.weight', 'model.layers.11.attn_norm.weight', 'model.layers.11.attn.Wqkv.weight', 'model.layers.11.attn.Wo.weight', 'model.layers.11.mlp_norm.weight', 'model.layers.11.mlp.Wi.weight', 'model.layers.11.mlp.Wo.weight', 'model.layers.12.attn_norm.weight', 'model.layers.12.attn.Wqkv.weight', 'model.layers.12.attn.Wo.weight', 'model.layers.12.mlp_norm.weight', 'model.layers.12.mlp.Wi.weight', 'model.layers.12.mlp.Wo.weight', 'model.layers.13.attn_norm.weight', 'model.layers.13.attn.Wqkv.weight', 'model.layers.13.attn.Wo.weight', 'model.layers.13.mlp_norm.weight', 'model.layers.13.mlp.Wi.weight', 'model.layers.13.mlp.Wo.weight', 'model.layers.14.attn_norm.weight', 'model.layers.14.attn.Wqkv.weight', 'model.layers.14.attn.Wo.weight', 'model.layers.14.mlp_norm.weight', 'model.layers.14.mlp.Wi.weight', 'model.layers.14.mlp.Wo.weight', 'model.layers.15.attn_norm.weight', 'model.layers.15.attn.Wqkv.weight', 'model.layers.15.attn.Wo.weight', 'model.layers.15.mlp_norm.weight', 'model.layers.15.mlp.Wi.weight', 'model.layers.15.mlp.Wo.weight', 'model.layers.16.attn_norm.weight', 'model.layers.16.attn.Wqkv.weight', 'model.layers.16.attn.Wo.weight', 'model.layers.16.mlp_norm.weight', 'model.layers.16.mlp.Wi.weight', 'model.layers.16.mlp.Wo.weight', 'model.layers.17.attn_norm.weight', 'model.layers.17.attn.Wqkv.weight', 'model.layers.17.attn.Wo.weight', 'model.layers.17.mlp_norm.weight', 'model.layers.17.mlp.Wi.weight', 'model.layers.17.mlp.Wo.weight', 'model.layers.18.attn_norm.weight', 'model.layers.18.attn.Wqkv.weight', 'model.layers.18.attn.Wo.weight', 'model.layers.18.mlp_norm.weight', 'model.layers.18.mlp.Wi.weight', 'model.layers.18.mlp.Wo.weight', 'model.layers.19.attn_norm.weight', 'model.layers.19.attn.Wqkv.weight', 'model.layers.19.attn.Wo.weight', 'model.layers.19.mlp_norm.weight', 'model.layers.19.mlp.Wi.weight', 'model.layers.19.mlp.Wo.weight', 'model.layers.20.attn_norm.weight', 'model.layers.20.attn.Wqkv.weight', 'model.layers.20.attn.Wo.weight', 'model.layers.20.mlp_norm.weight', 'model.layers.20.mlp.Wi.weight', 'model.layers.20.mlp.Wo.weight', 'model.layers.21.attn_norm.weight', 'model.layers.21.attn.Wqkv.weight', 'model.layers.21.attn.Wo.weight', 'model.layers.21.mlp_norm.weight', 'model.layers.21.mlp.Wi.weight', 'model.layers.21.mlp.Wo.weight', 'model.final_norm.weight', 'head.dense.weight', 'head.norm.weight', 'decoder.weight', 'decoder.bias'])"
      ]
     },
     "execution_count": 6,
     "metadata": {},
     "output_type": "execute_result"
    }
   ],
   "source": [
    "my_chat_model.state_dict().keys()"
   ]
  },
  {
   "cell_type": "code",
   "execution_count": 7,
   "metadata": {},
   "outputs": [
    {
     "data": {
      "text/plain": [
       "odict_keys(['model.embeddings.tok_embeddings.weight', 'model.embeddings.norm.weight', 'model.layers.0.attn.Wqkv.weight', 'model.layers.0.attn.Wo.weight', 'model.layers.0.mlp_norm.weight', 'model.layers.0.mlp.Wi.weight', 'model.layers.0.mlp.Wo.weight', 'model.layers.1.attn_norm.weight', 'model.layers.1.attn.Wqkv.weight', 'model.layers.1.attn.Wo.weight', 'model.layers.1.mlp_norm.weight', 'model.layers.1.mlp.Wi.weight', 'model.layers.1.mlp.Wo.weight', 'model.layers.2.attn_norm.weight', 'model.layers.2.attn.Wqkv.weight', 'model.layers.2.attn.Wo.weight', 'model.layers.2.mlp_norm.weight', 'model.layers.2.mlp.Wi.weight', 'model.layers.2.mlp.Wo.weight', 'model.layers.3.attn_norm.weight', 'model.layers.3.attn.Wqkv.weight', 'model.layers.3.attn.Wo.weight', 'model.layers.3.mlp_norm.weight', 'model.layers.3.mlp.Wi.weight', 'model.layers.3.mlp.Wo.weight', 'model.layers.4.attn_norm.weight', 'model.layers.4.attn.Wqkv.weight', 'model.layers.4.attn.Wo.weight', 'model.layers.4.mlp_norm.weight', 'model.layers.4.mlp.Wi.weight', 'model.layers.4.mlp.Wo.weight', 'model.layers.5.attn_norm.weight', 'model.layers.5.attn.Wqkv.weight', 'model.layers.5.attn.Wo.weight', 'model.layers.5.mlp_norm.weight', 'model.layers.5.mlp.Wi.weight', 'model.layers.5.mlp.Wo.weight', 'model.layers.6.attn_norm.weight', 'model.layers.6.attn.Wqkv.weight', 'model.layers.6.attn.Wo.weight', 'model.layers.6.mlp_norm.weight', 'model.layers.6.mlp.Wi.weight', 'model.layers.6.mlp.Wo.weight', 'model.layers.7.attn_norm.weight', 'model.layers.7.attn.Wqkv.weight', 'model.layers.7.attn.Wo.weight', 'model.layers.7.mlp_norm.weight', 'model.layers.7.mlp.Wi.weight', 'model.layers.7.mlp.Wo.weight', 'model.layers.8.attn_norm.weight', 'model.layers.8.attn.Wqkv.weight', 'model.layers.8.attn.Wo.weight', 'model.layers.8.mlp_norm.weight', 'model.layers.8.mlp.Wi.weight', 'model.layers.8.mlp.Wo.weight', 'model.layers.9.attn_norm.weight', 'model.layers.9.attn.Wqkv.weight', 'model.layers.9.attn.Wo.weight', 'model.layers.9.mlp_norm.weight', 'model.layers.9.mlp.Wi.weight', 'model.layers.9.mlp.Wo.weight', 'model.layers.10.attn_norm.weight', 'model.layers.10.attn.Wqkv.weight', 'model.layers.10.attn.Wo.weight', 'model.layers.10.mlp_norm.weight', 'model.layers.10.mlp.Wi.weight', 'model.layers.10.mlp.Wo.weight', 'model.layers.11.attn_norm.weight', 'model.layers.11.attn.Wqkv.weight', 'model.layers.11.attn.Wo.weight', 'model.layers.11.mlp_norm.weight', 'model.layers.11.mlp.Wi.weight', 'model.layers.11.mlp.Wo.weight', 'model.layers.12.attn_norm.weight', 'model.layers.12.attn.Wqkv.weight', 'model.layers.12.attn.Wo.weight', 'model.layers.12.mlp_norm.weight', 'model.layers.12.mlp.Wi.weight', 'model.layers.12.mlp.Wo.weight', 'model.layers.13.attn_norm.weight', 'model.layers.13.attn.Wqkv.weight', 'model.layers.13.attn.Wo.weight', 'model.layers.13.mlp_norm.weight', 'model.layers.13.mlp.Wi.weight', 'model.layers.13.mlp.Wo.weight', 'model.layers.14.attn_norm.weight', 'model.layers.14.attn.Wqkv.weight', 'model.layers.14.attn.Wo.weight', 'model.layers.14.mlp_norm.weight', 'model.layers.14.mlp.Wi.weight', 'model.layers.14.mlp.Wo.weight', 'model.layers.15.attn_norm.weight', 'model.layers.15.attn.Wqkv.weight', 'model.layers.15.attn.Wo.weight', 'model.layers.15.mlp_norm.weight', 'model.layers.15.mlp.Wi.weight', 'model.layers.15.mlp.Wo.weight', 'model.layers.16.attn_norm.weight', 'model.layers.16.attn.Wqkv.weight', 'model.layers.16.attn.Wo.weight', 'model.layers.16.mlp_norm.weight', 'model.layers.16.mlp.Wi.weight', 'model.layers.16.mlp.Wo.weight', 'model.layers.17.attn_norm.weight', 'model.layers.17.attn.Wqkv.weight', 'model.layers.17.attn.Wo.weight', 'model.layers.17.mlp_norm.weight', 'model.layers.17.mlp.Wi.weight', 'model.layers.17.mlp.Wo.weight', 'model.layers.18.attn_norm.weight', 'model.layers.18.attn.Wqkv.weight', 'model.layers.18.attn.Wo.weight', 'model.layers.18.mlp_norm.weight', 'model.layers.18.mlp.Wi.weight', 'model.layers.18.mlp.Wo.weight', 'model.layers.19.attn_norm.weight', 'model.layers.19.attn.Wqkv.weight', 'model.layers.19.attn.Wo.weight', 'model.layers.19.mlp_norm.weight', 'model.layers.19.mlp.Wi.weight', 'model.layers.19.mlp.Wo.weight', 'model.layers.20.attn_norm.weight', 'model.layers.20.attn.Wqkv.weight', 'model.layers.20.attn.Wo.weight', 'model.layers.20.mlp_norm.weight', 'model.layers.20.mlp.Wi.weight', 'model.layers.20.mlp.Wo.weight', 'model.layers.21.attn_norm.weight', 'model.layers.21.attn.Wqkv.weight', 'model.layers.21.attn.Wo.weight', 'model.layers.21.mlp_norm.weight', 'model.layers.21.mlp.Wi.weight', 'model.layers.21.mlp.Wo.weight', 'model.final_norm.weight', 'head.dense.weight', 'head.norm.weight', 'decoder.weight', 'decoder.bias'])"
      ]
     },
     "execution_count": 7,
     "metadata": {},
     "output_type": "execute_result"
    }
   ],
   "source": [
    "hf_model.state_dict().keys()"
   ]
  },
  {
   "cell_type": "code",
   "execution_count": null,
   "metadata": {},
   "outputs": [],
   "source": []
  }
 ],
 "metadata": {
  "kernelspec": {
   "display_name": "base",
   "language": "python",
   "name": "python3"
  },
  "language_info": {
   "codemirror_mode": {
    "name": "ipython",
    "version": 3
   },
   "file_extension": ".py",
   "mimetype": "text/x-python",
   "name": "python",
   "nbconvert_exporter": "python",
   "pygments_lexer": "ipython3",
   "version": "3.10.13"
  }
 },
 "nbformat": 4,
 "nbformat_minor": 2
}
