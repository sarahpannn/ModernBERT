{
 "nbformat": 4,
 "nbformat_minor": 0,
 "metadata": {
  "colab": {
   "provenance": []
  },
  "kernelspec": {
   "name": "python3",
   "display_name": "Python 3"
  },
  "language_info": {
   "name": "python"
  },
  "widgets": {
   "application/vnd.jupyter.widget-state+json": {
    "5c04282da94e42baa4f2f71cb018fb34": {
     "model_module": "@jupyter-widgets/controls",
     "model_name": "HBoxModel",
     "model_module_version": "1.5.0",
     "state": {
      "_dom_classes": [],
      "_model_module": "@jupyter-widgets/controls",
      "_model_module_version": "1.5.0",
      "_model_name": "HBoxModel",
      "_view_count": null,
      "_view_module": "@jupyter-widgets/controls",
      "_view_module_version": "1.5.0",
      "_view_name": "HBoxView",
      "box_style": "",
      "children": [
       "IPY_MODEL_09bf695b58224afdb34a6bf8f38a077c",
       "IPY_MODEL_b30778e75058497f90b88966df986f77",
       "IPY_MODEL_e9631b6bb342462da73b2a8d81b03f68"
      ],
      "layout": "IPY_MODEL_53b1677b774c4349b40aa84b25ef4bb3"
     }
    },
    "09bf695b58224afdb34a6bf8f38a077c": {
     "model_module": "@jupyter-widgets/controls",
     "model_name": "HTMLModel",
     "model_module_version": "1.5.0",
     "state": {
      "_dom_classes": [],
      "_model_module": "@jupyter-widgets/controls",
      "_model_module_version": "1.5.0",
      "_model_name": "HTMLModel",
      "_view_count": null,
      "_view_module": "@jupyter-widgets/controls",
      "_view_module_version": "1.5.0",
      "_view_name": "HTMLView",
      "description": "",
      "description_tooltip": null,
      "layout": "IPY_MODEL_335599d615264fbbbaa73e490a188686",
      "placeholder": "​",
      "style": "IPY_MODEL_9cd9cd1c9af24c5888fa9d02134c3014",
      "value": "config.json: 100%"
     }
    },
    "b30778e75058497f90b88966df986f77": {
     "model_module": "@jupyter-widgets/controls",
     "model_name": "FloatProgressModel",
     "model_module_version": "1.5.0",
     "state": {
      "_dom_classes": [],
      "_model_module": "@jupyter-widgets/controls",
      "_model_module_version": "1.5.0",
      "_model_name": "FloatProgressModel",
      "_view_count": null,
      "_view_module": "@jupyter-widgets/controls",
      "_view_module_version": "1.5.0",
      "_view_name": "ProgressView",
      "bar_style": "success",
      "description": "",
      "description_tooltip": null,
      "layout": "IPY_MODEL_cf1cf78c57c346d3b5fdd962e4f7eae6",
      "max": 792,
      "min": 0,
      "orientation": "horizontal",
      "style": "IPY_MODEL_a1ee2bbc88904bc38150014dbe4a9b39",
      "value": 792
     }
    },
    "e9631b6bb342462da73b2a8d81b03f68": {
     "model_module": "@jupyter-widgets/controls",
     "model_name": "HTMLModel",
     "model_module_version": "1.5.0",
     "state": {
      "_dom_classes": [],
      "_model_module": "@jupyter-widgets/controls",
      "_model_module_version": "1.5.0",
      "_model_name": "HTMLModel",
      "_view_count": null,
      "_view_module": "@jupyter-widgets/controls",
      "_view_module_version": "1.5.0",
      "_view_name": "HTMLView",
      "description": "",
      "description_tooltip": null,
      "layout": "IPY_MODEL_87c64c61472c46b8973da8b6b0884979",
      "placeholder": "​",
      "style": "IPY_MODEL_86b5bdfaf98f4386942e6f509570e6f4",
      "value": " 792/792 [00:00&lt;00:00, 48.4kB/s]"
     }
    },
    "53b1677b774c4349b40aa84b25ef4bb3": {
     "model_module": "@jupyter-widgets/base",
     "model_name": "LayoutModel",
     "model_module_version": "1.2.0",
     "state": {
      "_model_module": "@jupyter-widgets/base",
      "_model_module_version": "1.2.0",
      "_model_name": "LayoutModel",
      "_view_count": null,
      "_view_module": "@jupyter-widgets/base",
      "_view_module_version": "1.2.0",
      "_view_name": "LayoutView",
      "align_content": null,
      "align_items": null,
      "align_self": null,
      "border": null,
      "bottom": null,
      "display": null,
      "flex": null,
      "flex_flow": null,
      "grid_area": null,
      "grid_auto_columns": null,
      "grid_auto_flow": null,
      "grid_auto_rows": null,
      "grid_column": null,
      "grid_gap": null,
      "grid_row": null,
      "grid_template_areas": null,
      "grid_template_columns": null,
      "grid_template_rows": null,
      "height": null,
      "justify_content": null,
      "justify_items": null,
      "left": null,
      "margin": null,
      "max_height": null,
      "max_width": null,
      "min_height": null,
      "min_width": null,
      "object_fit": null,
      "object_position": null,
      "order": null,
      "overflow": null,
      "overflow_x": null,
      "overflow_y": null,
      "padding": null,
      "right": null,
      "top": null,
      "visibility": null,
      "width": null
     }
    },
    "335599d615264fbbbaa73e490a188686": {
     "model_module": "@jupyter-widgets/base",
     "model_name": "LayoutModel",
     "model_module_version": "1.2.0",
     "state": {
      "_model_module": "@jupyter-widgets/base",
      "_model_module_version": "1.2.0",
      "_model_name": "LayoutModel",
      "_view_count": null,
      "_view_module": "@jupyter-widgets/base",
      "_view_module_version": "1.2.0",
      "_view_name": "LayoutView",
      "align_content": null,
      "align_items": null,
      "align_self": null,
      "border": null,
      "bottom": null,
      "display": null,
      "flex": null,
      "flex_flow": null,
      "grid_area": null,
      "grid_auto_columns": null,
      "grid_auto_flow": null,
      "grid_auto_rows": null,
      "grid_column": null,
      "grid_gap": null,
      "grid_row": null,
      "grid_template_areas": null,
      "grid_template_columns": null,
      "grid_template_rows": null,
      "height": null,
      "justify_content": null,
      "justify_items": null,
      "left": null,
      "margin": null,
      "max_height": null,
      "max_width": null,
      "min_height": null,
      "min_width": null,
      "object_fit": null,
      "object_position": null,
      "order": null,
      "overflow": null,
      "overflow_x": null,
      "overflow_y": null,
      "padding": null,
      "right": null,
      "top": null,
      "visibility": null,
      "width": null
     }
    },
    "9cd9cd1c9af24c5888fa9d02134c3014": {
     "model_module": "@jupyter-widgets/controls",
     "model_name": "DescriptionStyleModel",
     "model_module_version": "1.5.0",
     "state": {
      "_model_module": "@jupyter-widgets/controls",
      "_model_module_version": "1.5.0",
      "_model_name": "DescriptionStyleModel",
      "_view_count": null,
      "_view_module": "@jupyter-widgets/base",
      "_view_module_version": "1.2.0",
      "_view_name": "StyleView",
      "description_width": ""
     }
    },
    "cf1cf78c57c346d3b5fdd962e4f7eae6": {
     "model_module": "@jupyter-widgets/base",
     "model_name": "LayoutModel",
     "model_module_version": "1.2.0",
     "state": {
      "_model_module": "@jupyter-widgets/base",
      "_model_module_version": "1.2.0",
      "_model_name": "LayoutModel",
      "_view_count": null,
      "_view_module": "@jupyter-widgets/base",
      "_view_module_version": "1.2.0",
      "_view_name": "LayoutView",
      "align_content": null,
      "align_items": null,
      "align_self": null,
      "border": null,
      "bottom": null,
      "display": null,
      "flex": null,
      "flex_flow": null,
      "grid_area": null,
      "grid_auto_columns": null,
      "grid_auto_flow": null,
      "grid_auto_rows": null,
      "grid_column": null,
      "grid_gap": null,
      "grid_row": null,
      "grid_template_areas": null,
      "grid_template_columns": null,
      "grid_template_rows": null,
      "height": null,
      "justify_content": null,
      "justify_items": null,
      "left": null,
      "margin": null,
      "max_height": null,
      "max_width": null,
      "min_height": null,
      "min_width": null,
      "object_fit": null,
      "object_position": null,
      "order": null,
      "overflow": null,
      "overflow_x": null,
      "overflow_y": null,
      "padding": null,
      "right": null,
      "top": null,
      "visibility": null,
      "width": null
     }
    },
    "a1ee2bbc88904bc38150014dbe4a9b39": {
     "model_module": "@jupyter-widgets/controls",
     "model_name": "ProgressStyleModel",
     "model_module_version": "1.5.0",
     "state": {
      "_model_module": "@jupyter-widgets/controls",
      "_model_module_version": "1.5.0",
      "_model_name": "ProgressStyleModel",
      "_view_count": null,
      "_view_module": "@jupyter-widgets/base",
      "_view_module_version": "1.2.0",
      "_view_name": "StyleView",
      "bar_color": null,
      "description_width": ""
     }
    },
    "87c64c61472c46b8973da8b6b0884979": {
     "model_module": "@jupyter-widgets/base",
     "model_name": "LayoutModel",
     "model_module_version": "1.2.0",
     "state": {
      "_model_module": "@jupyter-widgets/base",
      "_model_module_version": "1.2.0",
      "_model_name": "LayoutModel",
      "_view_count": null,
      "_view_module": "@jupyter-widgets/base",
      "_view_module_version": "1.2.0",
      "_view_name": "LayoutView",
      "align_content": null,
      "align_items": null,
      "align_self": null,
      "border": null,
      "bottom": null,
      "display": null,
      "flex": null,
      "flex_flow": null,
      "grid_area": null,
      "grid_auto_columns": null,
      "grid_auto_flow": null,
      "grid_auto_rows": null,
      "grid_column": null,
      "grid_gap": null,
      "grid_row": null,
      "grid_template_areas": null,
      "grid_template_columns": null,
      "grid_template_rows": null,
      "height": null,
      "justify_content": null,
      "justify_items": null,
      "left": null,
      "margin": null,
      "max_height": null,
      "max_width": null,
      "min_height": null,
      "min_width": null,
      "object_fit": null,
      "object_position": null,
      "order": null,
      "overflow": null,
      "overflow_x": null,
      "overflow_y": null,
      "padding": null,
      "right": null,
      "top": null,
      "visibility": null,
      "width": null
     }
    },
    "86b5bdfaf98f4386942e6f509570e6f4": {
     "model_module": "@jupyter-widgets/controls",
     "model_name": "DescriptionStyleModel",
     "model_module_version": "1.5.0",
     "state": {
      "_model_module": "@jupyter-widgets/controls",
      "_model_module_version": "1.5.0",
      "_model_name": "DescriptionStyleModel",
      "_view_count": null,
      "_view_module": "@jupyter-widgets/base",
      "_view_module_version": "1.2.0",
      "_view_name": "StyleView",
      "description_width": ""
     }
    }
   }
  }
 },
 "cells": [
  {
   "cell_type": "code",
   "source": [
    "import json\n",
    "from typing import Mapping, Union\n",
    "import pathlib, textwrap\n",
    "import transformers\n",
    "import matplotlib.pyplot as plt\n"
   ],
   "metadata": {
    "id": "yiShYQJP8yzE"
   },
   "execution_count": 1,
   "outputs": []
  },
  {
   "cell_type": "code",
   "source": [
    "!huggingface-cli login"
   ],
   "metadata": {
    "colab": {
     "base_uri": "https://localhost:8080/"
    },
    "id": "D6Zuy-uX-MCu",
    "outputId": "31c96572-5121-4e40-e546-6f88fa599043"
   },
   "execution_count": 13,
   "outputs": [
    {
     "output_type": "stream",
     "name": "stdout",
     "text": [
      "\n",
      "    _|    _|  _|    _|    _|_|_|    _|_|_|  _|_|_|  _|      _|    _|_|_|      _|_|_|_|    _|_|      _|_|_|  _|_|_|_|\n",
      "    _|    _|  _|    _|  _|        _|          _|    _|_|    _|  _|            _|        _|    _|  _|        _|\n",
      "    _|_|_|_|  _|    _|  _|  _|_|  _|  _|_|    _|    _|  _|  _|  _|  _|_|      _|_|_|    _|_|_|_|  _|        _|_|_|\n",
      "    _|    _|  _|    _|  _|    _|  _|    _|    _|    _|    _|_|  _|    _|      _|        _|    _|  _|        _|\n",
      "    _|    _|    _|_|      _|_|_|    _|_|_|  _|_|_|  _|      _|    _|_|_|      _|        _|    _|    _|_|_|  _|_|_|_|\n",
      "\n",
      "    To log in, `huggingface_hub` requires a token generated from https://huggingface.co/settings/tokens .\n",
      "Enter your token (input will not be visible): \n",
      "Add token as git credential? (Y/n) n\n",
      "Token is valid (permission: write).\n",
      "The token `create dataset` has been saved to /root/.cache/huggingface/stored_tokens\n",
      "Your token has been saved to /root/.cache/huggingface/token\n",
      "Login successful.\n",
      "The current active token is: `create dataset`\n"
     ]
    }
   ]
  },
  {
   "cell_type": "code",
   "execution_count": 41,
   "metadata": {
    "id": "ksyPVwq_5aDL"
   },
   "outputs": [],
   "source": [
    "tinyrm_scores = [78.4, 86.4]\n",
    "tinyrm_flops = [0.19, 0.34]\n",
    "\n",
    "tulu_scores = [88.9, 81.9, 85.5, 50.9]\n",
    "tulu_flops = [78.1, 11.95, 8.77, 1.86]\n",
    "\n",
    "qwen25_scores = [88.2, 92.7]\n",
    "qwen25_flops = [8.86, 38.27]\n",
    "\n",
    "llama_scores = [90.9, 93.1, 95.1, ]\n",
    "llama_flops = [3.75, 8.77, 78.1, ]"
   ]
  },
  {
   "cell_type": "code",
   "source": [
    "# cfg_path = pathlib.Path(\"modernbert_base.json\")  # or a dict inline\n",
    "qwen2_config = transformers.PretrainedConfig.from_pretrained(\"SultanR/SmolTulu-1.7b-RM\")\n",
    "gflops = estimate_gflops_per_token(qwen2_config, context_len=8192)\n",
    "print(f\"≈ {gflops:.2f} GFLOPs / token (forward, logits included)\")"
   ],
   "metadata": {
    "colab": {
     "base_uri": "https://localhost:8080/",
     "height": 85,
     "referenced_widgets": [
      "5c04282da94e42baa4f2f71cb018fb34",
      "09bf695b58224afdb34a6bf8f38a077c",
      "b30778e75058497f90b88966df986f77",
      "e9631b6bb342462da73b2a8d81b03f68",
      "53b1677b774c4349b40aa84b25ef4bb3",
      "335599d615264fbbbaa73e490a188686",
      "9cd9cd1c9af24c5888fa9d02134c3014",
      "cf1cf78c57c346d3b5fdd962e4f7eae6",
      "a1ee2bbc88904bc38150014dbe4a9b39",
      "87c64c61472c46b8973da8b6b0884979",
      "86b5bdfaf98f4386942e6f509570e6f4"
     ]
    },
    "id": "YJrF-HS482HI",
    "outputId": "0492bb77-6c5c-406d-b82c-4938534210a2"
   },
   "execution_count": 38,
   "outputs": [
    {
     "output_type": "display_data",
     "data": {
      "text/plain": [
       "config.json:   0%|          | 0.00/792 [00:00<?, ?B/s]"
      ],
      "application/vnd.jupyter.widget-view+json": {
       "version_major": 2,
       "version_minor": 0,
       "model_id": "5c04282da94e42baa4f2f71cb018fb34"
      }
     },
     "metadata": {}
    },
    {
     "output_type": "stream",
     "name": "stderr",
     "text": [
      "You are using a model of type llama to instantiate a model of type . This is not supported for all configurations of models and can yield errors.\n"
     ]
    },
    {
     "output_type": "stream",
     "name": "stdout",
     "text": [
      "≈ 1.86 GFLOPs / token (forward, logits included)\n"
     ]
    }
   ]
  },
  {
   "cell_type": "code",
   "source": [
    "def estimate_gflops_per_token(\n",
    "    cfg,\n",
    "    context_len: int = 2048,\n",
    "    include_logits: bool = True,\n",
    ") -> float:\n",
    "\n",
    "    # if isinstance(cfg, str):\n",
    "    #     try:\n",
    "    #         cfg = json.loads(cfg)            # JSON string?\n",
    "    #     except json.JSONDecodeError:\n",
    "    #         with open(cfg, \"r\") as f:        # treat as path\n",
    "    #             cfg = json.load(f)\n",
    "\n",
    "    # Pull the essentials\n",
    "    dm   = cfg.hidden_size\n",
    "    L    = cfg.num_hidden_layers\n",
    "    nh   = cfg.num_attention_heads\n",
    "    dff  = cfg.intermediate_size\n",
    "    nv   = cfg.vocab_size\n",
    "    datt = dm // nh  # assume divisible\n",
    "\n",
    "    # ---------- OpenAI \"Table-1\" formulas ----------\n",
    "    # Parameter-dominated term\n",
    "    N = 2 * dm * L * (2 * datt + dff)\n",
    "\n",
    "    # Attention masking matmuls\n",
    "    attention_term = 2 * L * context_len * datt\n",
    "\n",
    "    # Total forward cost\n",
    "    flops = 2 * N + attention_term\n",
    "\n",
    "    # Optional logits projection (≈ always paid at inference)\n",
    "    if include_logits:\n",
    "        flops += 2 * dm * nv          # de-embed\n",
    "\n",
    "    # Return in giga-FLOPs\n",
    "    return flops / 1e9"
   ],
   "metadata": {
    "id": "qoc9qyw58vS8"
   },
   "execution_count": 10,
   "outputs": []
  },
  {
   "cell_type": "code",
   "metadata": {
    "colab": {
     "base_uri": "https://localhost:8080/",
     "height": 569
    },
    "id": "b6bf52a2",
    "outputId": "48a12317-998d-4d98-cd41-3bbf7d813e9f"
   },
   "source": "# Create the scatter plot\nplt.figure(figsize=(10, 6))\n\n# Plot with connecting lines - keeping original style but with slight improvements\nplt.plot(tinyrm_flops, tinyrm_scores, label='TinyRM', marker='o', linewidth=2, markersize=7)\nplt.plot(qwen25_flops, qwen25_scores, label='Qwen2.5', marker='x', linewidth=2, markersize=8)\nplt.plot(llama_flops, llama_scores, label='Llama3.1', marker='^', linewidth=2, markersize=7)\nplt.plot(tulu_flops, tulu_scores, label='Tulu', marker='*', linewidth=2, markersize=9)\n\n# Set labels and title\nplt.xlabel('GFLOPs / token', fontsize=12)\nplt.ylabel('Score', fontsize=12)\nplt.title('Score vs GFLOPs / token', fontsize=14)\n\n# Flip the x-axis and set to logarithmic scale\nplt.xscale('log')\n\n# Add a legend\nplt.legend(fontsize=11)\n\n# Add grid\nplt.grid(True, alpha=0.3)\n\n# Save the plot as high-quality images\nplt.savefig('flopchart.jpg', dpi=300, bbox_inches='tight')\nplt.savefig('flopchart.png', dpi=300, bbox_inches='tight')\n\n# Show the plot\nplt.show()\n\nprint(\"Chart saved as flopchart.jpg and flopchart.png\")",
   "outputs": []
  },
  {
   "cell_type": "code",
   "source": [],
   "metadata": {
    "id": "A6jkk1cP-ymu"
   },
   "execution_count": null,
   "outputs": []
  }
 ]
}